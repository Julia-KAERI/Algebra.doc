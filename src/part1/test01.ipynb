{
 "cells": [
  {
   "cell_type": "code",
   "execution_count": 3,
   "metadata": {},
   "outputs": [],
   "source": [
    "using CairoMakie, NAJ, LinearAlgebra"
   ]
  },
  {
   "cell_type": "code",
   "execution_count": 7,
   "metadata": {},
   "outputs": [
    {
     "data": {
      "text/plain": [
       "5-element Vector{SimplePolynomial{Int64}}:\n",
       " Simple Polynomial{Int64}(1 )\n",
       "\n",
       " Simple Polynomial{Int64}(1 x^1)\n",
       "\n",
       " Simple Polynomial{Int64}(1 x^2)\n",
       "\n",
       " Simple Polynomial{Int64}(1 x^3)\n",
       "\n",
       " Simple Polynomial{Int64}(1 x^4)\n"
      ]
     },
     "metadata": {},
     "output_type": "display_data"
    }
   ],
   "source": [
    "B1 = [SimplePolynomial(p) for p ∈ ([1], [0, 1], [0,0,1], [0,0,0,1],[0,0,0,0,1])]"
   ]
  },
  {
   "cell_type": "code",
   "execution_count": 14,
   "metadata": {},
   "outputs": [
    {
     "data": {
      "text/plain": [
       "5-element Vector{Float64}:\n",
       "  2.5066282746310002\n",
       "  4.546520770897223\n",
       " 11.06380919548564\n",
       " 29.375856110451323\n",
       " 81.38946059731185"
      ]
     },
     "metadata": {},
     "output_type": "display_data"
    }
   ],
   "source": [
    "B2 = [sqrt(integrate(p*p, -π, π)) for p in B1]"
   ]
  },
  {
   "cell_type": "code",
   "execution_count": 24,
   "metadata": {},
   "outputs": [
    {
     "data": {
      "text/plain": [
       "innerproduct (generic function with 2 methods)"
      ]
     },
     "metadata": {},
     "output_type": "display_data"
    }
   ],
   "source": [
    "function innerproduct(f, g)\n",
    "    h = f * g\n",
    "    return integrate(h, -π, pi)\n",
    "end"
   ]
  },
  {
   "cell_type": "code",
   "execution_count": 25,
   "metadata": {},
   "outputs": [
    {
     "data": {
      "text/plain": [
       "6.283185307179586"
      ]
     },
     "metadata": {},
     "output_type": "display_data"
    }
   ],
   "source": [
    "innerproduct(B1[1], B1[1])"
   ]
  },
  {
   "cell_type": "code",
   "execution_count": 18,
   "metadata": {},
   "outputs": [
    {
     "data": {
      "text/plain": [
       "81.38946059731185"
      ]
     },
     "metadata": {},
     "output_type": "display_data"
    }
   ],
   "source": [
    "sqrt(1/9*2*π^9)"
   ]
  },
  {
   "cell_type": "code",
   "execution_count": 1,
   "metadata": {},
   "outputs": [
    {
     "data": {
      "text/plain": [
       "4-element Vector{Float64}:\n",
       " 0.0\n",
       " 0.0\n",
       " 0.4472135954999579\n",
       " 0.8944271909999159"
      ]
     },
     "metadata": {},
     "output_type": "display_data"
    }
   ],
   "source": [
    "v=[1,2,3,4]\n",
    "e1 = [1,1,0,0]./√2\n",
    "e2=[0,0,1,2]./√5"
   ]
  },
  {
   "cell_type": "code",
   "execution_count": 4,
   "metadata": {},
   "outputs": [
    {
     "data": {
      "text/plain": [
       "4-element Vector{Float64}:\n",
       " 1.4999999999999998\n",
       " 1.4999999999999998\n",
       " 2.1999999999999997\n",
       " 4.3999999999999995"
      ]
     },
     "metadata": {},
     "output_type": "display_data"
    }
   ],
   "source": [
    "dot(v, e1).*e1 + dot(v,e2)*e2"
   ]
  },
  {
   "cell_type": "code",
   "execution_count": null,
   "metadata": {},
   "outputs": [],
   "source": []
  }
 ],
 "metadata": {
  "kernelspec": {
   "display_name": "Julia 1.11.1",
   "language": "julia",
   "name": "julia-1.11"
  },
  "language_info": {
   "file_extension": ".jl",
   "mimetype": "application/julia",
   "name": "julia",
   "version": "1.11.1"
  }
 },
 "nbformat": 4,
 "nbformat_minor": 2
}
